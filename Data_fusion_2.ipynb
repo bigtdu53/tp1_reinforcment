{
 "cells": [
  {
   "cell_type": "markdown",
   "metadata": {},
   "source": [
    "# Data Fusion TP 2 - Fusion de capteurs"
   ]
  },
  {
   "cell_type": "markdown",
   "metadata": {},
   "source": [
    "Titouan Vayer & Ludovic Darmet"
   ]
  },
  {
   "cell_type": "markdown",
   "metadata": {},
   "source": [
    "### Import"
   ]
  },
  {
   "cell_type": "code",
   "execution_count": 1,
   "metadata": {
    "collapsed": false
   },
   "outputs": [],
   "source": [
    "%matplotlib inline\n",
    "import numpy as np\n",
    "import matplotlib.pyplot as plt\n",
    "import seaborn as sns"
   ]
  },
  {
   "cell_type": "markdown",
   "metadata": {},
   "source": [
    "## Exercice 1 : Variances connues"
   ]
  },
  {
   "cell_type": "markdown",
   "metadata": {},
   "source": [
    "### Question 1"
   ]
  },
  {
   "cell_type": "code",
   "execution_count": 2,
   "metadata": {
    "collapsed": true
   },
   "outputs": [],
   "source": [
    "sigma1 = 0.1\n",
    "sigma2 = 0.2\n",
    "\n",
    "n1 = 5\n",
    "n2 = 10\n",
    "\n",
    "x_MLE = np.zeros((1000,1))\n",
    "x_mean = np.zeros((1000,1))"
   ]
  },
  {
   "cell_type": "markdown",
   "metadata": {},
   "source": [
    "### Calcul de l'agrégat par max de vraisemblance"
   ]
  },
  {
   "cell_type": "code",
   "execution_count": 3,
   "metadata": {
    "collapsed": true
   },
   "outputs": [],
   "source": [
    "for i in range(1000):\n",
    "    x1 = np.random.normal(0,sigma1,(n1,1))\n",
    "    x2 = np.random.normal(0,sigma2,(n2,1))\n",
    "    x1_barre = np.mean(x1)\n",
    "    x2_barre = np.mean(x2)\n",
    "\n",
    "    x_MLE[i] = (sigma2**2*x1_barre+ sigma1**2*x2_barre)/(n1*sigma2**2+sigma1**2*n2)\n",
    "    x_mean[i] = np.mean(np.concatenate((x1,x2)))"
   ]
  },
  {
   "cell_type": "markdown",
   "metadata": {},
   "source": [
    "### Plot"
   ]
  },
  {
   "cell_type": "code",
   "execution_count": 4,
   "metadata": {
    "collapsed": false
   },
   "outputs": [
    {
     "data": {
      "text/plain": [
       "<matplotlib.legend.Legend at 0x7efddf1b77d0>"
      ]
     },
     "execution_count": 4,
     "metadata": {},
     "output_type": "execute_result"
    },
    {
     "data": {
      "image/png": "[encoded data removed]",
      "text/plain": [
       "<matplotlib.figure.Figure at 0x7efddf1b7810>"
      ]
     },
     "metadata": {},
     "output_type": "display_data"
    }
   ],
   "source": [
    "hist, bins = np.histogram(x_mean, bins=50)\n",
    "width = 0.7 * (bins[1] - bins[0])\n",
    "center = (bins[:-1] + bins[1:]) / 2\n",
    "plt.bar(center, hist, align='center', width=width,color='g',alpha=0.8)\n",
    "hist, bins = np.histogram(x_MLE, bins=50)\n",
    "width = 0.7 * (bins[1] - bins[0])\n",
    "center = (bins[:-1] + bins[1:]) / 2\n",
    "plt.bar(center, hist, align='center', width=width,color='r',alpha=0.8)\n",
    "plt.legend(['Moyenne','MMLE'])"
   ]
  },
  {
   "cell_type": "markdown",
   "metadata": {},
   "source": [
    "## Généralisation en faisant varier n1 et n2"
   ]
  },
  {
   "cell_type": "code",
   "execution_count": 5,
   "metadata": {
    "collapsed": false
   },
   "outputs": [
    {
     "name": "stdout",
     "output_type": "stream",
     "text": [
      "CPU times: user 8.4 s, sys: 0 ns, total: 8.4 s\n",
      "Wall time: 8.4 s\n"
     ]
    }
   ],
   "source": [
    "%%time\n",
    "\n",
    "std_MLE = np.zeros((20,20))\n",
    "\n",
    "for i in range(20):\n",
    "    for j in range(20):\n",
    "        x_MLE = np.zeros((1000,1))\n",
    "        for k in range(1000): # Boucle for for life\n",
    "            x1 = np.random.normal(0,sigma1,(i+1,1))\n",
    "            x2 = np.random.normal(0,sigma2,(j+1,1))\n",
    "            x1_barre = np.mean(x1)\n",
    "            x2_barre = np.mean(x2)\n",
    "\n",
    "            x_MLE[k] = (sigma2**2*x1_barre+ sigma1**2*x2_barre)/((i+1)*sigma2**2+sigma1**2*(j+1))\n",
    "            \n",
    "        std_MLE[i,j] = np.std(x_MLE)"
   ]
  },
  {
   "cell_type": "markdown",
   "metadata": {},
   "source": [
    "### Plot"
   ]
  },
  {
   "cell_type": "code",
   "execution_count": 6,
   "metadata": {
    "collapsed": false
   },
   "outputs": [
    {
     "data": {
      "text/plain": [
       "<matplotlib.image.AxesImage at 0x7efdde9e2bd0>"
      ]
     },
     "execution_count": 6,
     "metadata": {},
     "output_type": "execute_result"
    },
    {
     "data": {
      "image/png": "[encoded data removed]",
      "text/plain": [
       "<matplotlib.figure.Figure at 0x7efddafeb8d0>"
      ]
     },
     "metadata": {},
     "output_type": "display_data"
    }
   ],
   "source": [
    "plt.imshow(std_MLE,interpolation='none')"
   ]
  },
  {
   "cell_type": "markdown",
   "metadata": {},
   "source": [
    "Il semblerait que la source 1 est plus intéressante car, seule, il y a besoin de moins d'observations (5) pour avoir une variance d'estimateur proche de 0 que pour la source 2. \n",
    "De même en combinant les deux sources."
   ]
  },
  {
   "cell_type": "markdown",
   "metadata": {},
   "source": [
    "### Question 3"
   ]
  },
  {
   "cell_type": "markdown",
   "metadata": {},
   "source": [
    "#### Calcul de l'aggrégat par maximum a posterior"
   ]
  },
  {
   "cell_type": "code",
   "execution_count": 7,
   "metadata": {
    "collapsed": false
   },
   "outputs": [],
   "source": [
    "sigma1 = 0.1\n",
    "sigma2 = 0.2\n",
    "sigma0 = std_MLE[2,2]\n",
    "\n",
    "n1 = 3\n",
    "n2 = 3\n",
    "\n",
    "x_MLE = np.zeros((1000,1))\n",
    "x_mean = np.zeros((1000,1))\n",
    "x_MAP = np.zeros((1000,1))\n",
    "\n",
    "\n",
    "for i in range(1000):\n",
    "    x1 = np.random.normal(0,sigma1,(n1,1))\n",
    "    x2 = np.random.normal(0,sigma2,(n2,1))\n",
    "    x1_barre = np.mean(x1)\n",
    "    x2_barre = np.mean(x2)\n",
    "    \n",
    "    x_MLE[i] = (sigma2**2*x1_barre+ sigma1**2*x2_barre)/(n1*sigma2**2+sigma1**2*n2)\n",
    "    x_mean[i] = np.mean(np.concatenate((x1,x2)))\n",
    "    x_MAP[i] = ((x1_barre/(sigma1**2))+(x2_barre/(sigma2**2))+(x_MLE[i]/(sigma0**2)))/((n1/(sigma1**2))+(n2/(sigma2**2))+(1/(sigma0**2)))"
   ]
  },
  {
   "cell_type": "markdown",
   "metadata": {},
   "source": [
    "### Plot"
   ]
  },
  {
   "cell_type": "code",
   "execution_count": 8,
   "metadata": {
    "collapsed": false
   },
   "outputs": [
    {
     "data": {
      "text/plain": [
       "<matplotlib.legend.Legend at 0x7efdde9aaa10>"
      ]
     },
     "execution_count": 8,
     "metadata": {},
     "output_type": "execute_result"
    },
    {
     "data": {
      "image/png": "[encoded data removed]",
      "text/plain": [
       "<matplotlib.figure.Figure at 0x7efdde9aaa50>"
      ]
     },
     "metadata": {},
     "output_type": "display_data"
    }
   ],
   "source": [
    "hist, bins = np.histogram(x_mean, bins=50)\n",
    "width = 0.7 * (bins[1] - bins[0])\n",
    "center = (bins[:-1] + bins[1:]) / 2\n",
    "plt.bar(center, hist, align='center', width=width,color='g',alpha=0.7)\n",
    "hist, bins = np.histogram(x_MLE, bins=50)\n",
    "width = 0.7 * (bins[1] - bins[0])\n",
    "center = (bins[:-1] + bins[1:]) / 2\n",
    "plt.bar(center, hist, align='center', width=width,color='r',alpha=0.7)\n",
    "hist, bins = np.histogram(x_MAP, bins=50)\n",
    "width = 0.7 * (bins[1] - bins[0])\n",
    "center = (bins[:-1] + bins[1:]) / 2\n",
    "plt.bar(center, hist, align='center', width=width,color='b',alpha=0.5)\n",
    "plt.legend(['Moyenne','MLE','MAP'])"
   ]
  },
  {
   "cell_type": "markdown",
   "metadata": {},
   "source": [
    "Le la différence entre MAP et MLE est très très faible. Même difficile à voir sur ce graphique. \n",
    "\n",
    "Le gain ne semble donc pas sigificatif contrairement à calculer le MLE à la place de la moyenne qui permet de réduire significativement la variance de notre estimateur."
   ]
  },
  {
   "cell_type": "markdown",
   "metadata": {},
   "source": [
    "## Exercice 2 : Fusion de capteurs de variances inconnues"
   ]
  },
  {
   "cell_type": "markdown",
   "metadata": {},
   "source": [
    "En injectant $(12)$ et $(13)$ dans $(14)$ on obtient une équation du type $g(x_{*}) = x_{*}$  avec $g$ dérivable et $\\forall x_{*}$ $|g'(x_{*})| < 1$. On va donc pouvoir appliquer la méthode du point fixe pour trouver $x_{*}$."
   ]
  },
  {
   "cell_type": "code",
   "execution_count": 9,
   "metadata": {
    "collapsed": false
   },
   "outputs": [],
   "source": [
    "sigma1 = 0.1\n",
    "sigma2 = 0.2\n",
    "\n",
    "n1 = 5\n",
    "n2 = 10\n",
    "\n",
    "x_MLE = np.zeros((1000,1))\n",
    "x_mean = np.zeros((1000,1))"
   ]
  },
  {
   "cell_type": "code",
   "execution_count": 10,
   "metadata": {
    "collapsed": false
   },
   "outputs": [],
   "source": [
    "for i in range(1000):\n",
    "    x1 = np.random.normal(0,sigma1,(n1,1))\n",
    "    x2 = np.random.normal(0,sigma2,(n2,1))\n",
    "    x1_barre = np.mean(x1)\n",
    "    x2_barre = np.mean(x2)\n",
    "    u=1\n",
    "    epsilon=5\n",
    "\n",
    "    \n",
    "    while epsilon>0.01: # Point fixe : on s'arrête quand le critère de convergence est atteint.\n",
    "        t = ((1/n1)*np.sum((x1-u)**2)+(1/n2)*np.sum((x2-u)**22)/(np.sum((x1-u)**2)+np.sum((x2-u)**2)))\n",
    "        epsilon = np.abs(t-u)\n",
    "        u=t\n",
    "\n",
    "    x_MLE[i] = u\n",
    "    x_mean[i] = np.mean(np.concatenate((x1,x2)))"
   ]
  },
  {
   "cell_type": "markdown",
   "metadata": {},
   "source": [
    "## Plot"
   ]
  },
  {
   "cell_type": "code",
   "execution_count": 11,
   "metadata": {
    "collapsed": false
   },
   "outputs": [
    {
     "data": {
      "text/plain": [
       "<matplotlib.legend.Legend at 0x7efddab93710>"
      ]
     },
     "execution_count": 11,
     "metadata": {},
     "output_type": "execute_result"
    },
    {
     "data": {
      "image/png": "[encoded data removed]",
      "text/plain": [
       "<matplotlib.figure.Figure at 0x7efddab934d0>"
      ]
     },
     "metadata": {},
     "output_type": "display_data"
    }
   ],
   "source": [
    "hist, bins = np.histogram(x_mean, bins=50)\n",
    "width = 0.7 * (bins[1] - bins[0])\n",
    "center = (bins[:-1] + bins[1:]) / 2\n",
    "plt.bar(center, hist, align='center', width=width,color='g',alpha=0.8)\n",
    "hist, bins = np.histogram(x_MLE, bins=50)\n",
    "width = 0.7 * (bins[1] - bins[0])\n",
    "center = (bins[:-1] + bins[1:]) / 2\n",
    "plt.bar(center, hist, align='center', width=width,color='r',alpha=0.8)\n",
    "plt.legend(['Moyenne','MLE'])"
   ]
  },
  {
   "cell_type": "markdown",
   "metadata": {},
   "source": [
    "Ca marche plus que très bien pour estimer notre constante ! Même trop?"
   ]
  }
 ],
 "metadata": {
  "kernelspec": {
   "display_name": "Python 2",
   "language": "python",
   "name": "python2"
  },
  "language_info": {
   "codemirror_mode": {
    "name": "ipython",
    "version": 2
   },
   "file_extension": ".py",
   "mimetype": "text/x-python",
   "name": "python",
   "nbconvert_exporter": "python",
   "pygments_lexer": "ipython2",
   "version": "2.7.12"
  }
 },
 "nbformat": 4,
 "nbformat_minor": 1
}
