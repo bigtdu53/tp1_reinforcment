{
 "cells": [
  {
   "cell_type": "markdown",
   "metadata": {},
   "source": [
    "# TP 1 Reinforcment Learning"
   ]
  },
  {
   "cell_type": "markdown",
   "metadata": {},
   "source": [
    "Remarques :\n",
    "\n",
    ". Deux parties : dans la première on suppose qu'on connait le MDP et dans la deuxième on se base sur des données et on ne connaît pas le MPD.\n",
    "\n",
    ". Suitable structures : pour $p(y,a,x)$ qu'il va falloir store , on peut $p_{1}(y,x)$ et $p_{2}(y,x)$\n",
    "\n",
    ". Faire tout en vectoriel matrix form\n",
    "\n",
    ". Faire un truc simple pour modéliser le growth du tree\n",
    "\n",
    ". Lorsque le tree est malade et qu'on le coupe on prend un reward négatif car il ne va rien rapporter en bois\n",
    "\n",
    ".tree_sim une étape et tree_MDP c'est le truc entier. "
   ]
  },
  {
   "cell_type": "markdown",
   "metadata": {},
   "source": [
    "### Modelisation"
   ]
  },
  {
   "cell_type": "markdown",
   "metadata": {},
   "source": [
    "* L'arbre est modélisé par un entier entre 0 et H. (au début à zéro) c'est le state space.\n",
    "\n",
    "* Action space : 0 ou 1 (cut ou pas cut)\n",
    "\n",
    "* Reward :\n",
    "    - Maintenance : reward -10\n",
    "    - Unit of wood : reward 10\n",
    "    - Cost of planting : reward -5\n",
    "    \n",
    "* Discount factor : $\\gamma=\\frac{1}{1+r}$ avec $r=0.05$\n",
    "\n"
   ]
  },
  {
   "cell_type": "markdown",
   "metadata": {},
   "source": [
    "### Growth of tree"
   ]
  },
  {
   "cell_type": "markdown",
   "metadata": {},
   "source": [
    "A chaque itération on a une proba 3/4 que l'arbre grandisse d'une unité.\n",
    "\n",
    "Ensuite il peut tomber malade avec un probabilité 1/16.\n",
    "\n",
    "Grandir de deux unités avec une proba de 1/16. \n",
    "\n",
    "Ne pas grandir avec une probabilité 1/8."
   ]
  },
  {
   "cell_type": "markdown",
   "metadata": {},
   "source": [
    "### Variables"
   ]
  },
  {
   "cell_type": "markdown",
   "metadata": {},
   "source": [
    "a c'est l'action integer\n",
    "\n",
    "r reward integer\n",
    "\n",
    "state x just the tree de 0 à H."
   ]
  },
  {
   "cell_type": "code",
   "execution_count": 88,
   "metadata": {
    "collapsed": true
   },
   "outputs": [],
   "source": [
    "import random\n",
    "import numpy as np \n",
    "import pandas as pd\n",
    "import matplotlib.pyplot as plt\n",
    "import matplotlib.patches as mpatches"
   ]
  },
  {
   "cell_type": "code",
   "execution_count": 93,
   "metadata": {
    "collapsed": false
   },
   "outputs": [],
   "source": [
    "class Tree:\n",
    "    \n",
    "    def __init__(self,initSize,H):\n",
    "        self.size=initSize\n",
    "        self.state='wealthy'\n",
    "        self.Hmax=H\n",
    "        \n",
    "    def tree_sim(self,a,verbose=0):\n",
    "\n",
    "        if a==0 : # on coupe pas l'arbre\n",
    "            choose=random.random()\n",
    "\n",
    "            if choose<=(1/16) :\n",
    "                if verbose==1 :\n",
    "                    print('The tree is getting sick')\n",
    "                self.state='sick'\n",
    "                \n",
    "            if choose>1/16 and choose<=(2/16):\n",
    "                if verbose==1 :\n",
    "                    print('The tree grows of two units')\n",
    "                \n",
    "                if self.size<self.Hmax:\n",
    "                    self.size=self.size+2\n",
    "                \n",
    "            if choose>(2/16) and choose<=(4/16):\n",
    "                if verbose==1 :\n",
    "                    print('The tree does not grow')\n",
    "\n",
    "            if choose>(4/16) and choose<=1:\n",
    "                if verbose==1 :\n",
    "                    print('The tree grows of one unit')\n",
    "                \n",
    "                if self.size<self.Hmax:\n",
    "                    self.size=self.size+1\n",
    "\n",
    "        if a==1 : # on coupe l'arbre\n",
    "            self.size=0\n",
    " "
   ]
  },
  {
   "cell_type": "markdown",
   "metadata": {},
   "source": [
    "### Simulation tree"
   ]
  },
  {
   "cell_type": "markdown",
   "metadata": {},
   "source": [
    "En le laissant vivre sa vie"
   ]
  },
  {
   "cell_type": "code",
   "execution_count": 96,
   "metadata": {
    "collapsed": false,
    "scrolled": true
   },
   "outputs": [],
   "source": [
    "t=Tree(initSize=0,H=100)\n",
    "h=[]\n",
    "s=[]\n",
    "simul=100\n",
    "for i in range(simul):\n",
    "    t.tree_sim(0)\n",
    "    h.append(t.size)\n",
    "    s.append(t.state)"
   ]
  },
  {
   "cell_type": "code",
   "execution_count": 97,
   "metadata": {
    "collapsed": false
   },
   "outputs": [
    {
     "data": {
      "image/png": "[encoded data removed]",
      "text/plain": [
       "<matplotlib.figure.Figure at 0x1115d0dd8>"
      ]
     },
     "metadata": {},
     "output_type": "display_data"
    }
   ],
   "source": [
    "use_colours = {\"wealthy\": \"blue\", \"sick\": \"red\"}\n",
    "plt.scatter(range(simul),h,color=[use_colours[x] for x in s])\n",
    "plt.xlim([-1,simul])\n",
    "plt.ylim([0,100])\n",
    "plt.title('Simulation of a growing tree')\n",
    "plt.ylabel('Tree\\'s Height')\n",
    "red_patch = mpatches.Patch(color='red', label='Sick')\n",
    "blue_patch = mpatches.Patch(color='blue', label='Wealthy')\n",
    "plt.legend(handles=[red_patch,blue_patch],loc=4)\n",
    "plt.show()"
   ]
  },
  {
   "cell_type": "code",
   "execution_count": null,
   "metadata": {
    "collapsed": true
   },
   "outputs": [],
   "source": []
  },
  {
   "cell_type": "code",
   "execution_count": null,
   "metadata": {
    "collapsed": true
   },
   "outputs": [],
   "source": []
  },
  {
   "cell_type": "code",
   "execution_count": null,
   "metadata": {
    "collapsed": true
   },
   "outputs": [],
   "source": []
  },
  {
   "cell_type": "code",
   "execution_count": null,
   "metadata": {
    "collapsed": true
   },
   "outputs": [],
   "source": []
  },
  {
   "cell_type": "code",
   "execution_count": null,
   "metadata": {
    "collapsed": true
   },
   "outputs": [],
   "source": []
  },
  {
   "cell_type": "code",
   "execution_count": 52,
   "metadata": {
    "collapsed": false
   },
   "outputs": [
    {
     "data": {
      "image/png": "[encoded data removed]",
      "text/plain": [
       "<matplotlib.figure.Figure at 0x111b03278>"
      ]
     },
     "metadata": {},
     "output_type": "display_data"
    }
   ],
   "source": [
    "liste=['A']*2+['B']*1\n",
    "h=list()\n",
    "for i in range(200000):\n",
    "    h.append(random.choice(liste))\n",
    "H=pd.DataFrame(h,columns=['letter'])\n",
    "a=H.groupby('letter').letter.count()\n",
    "b=100*(a/a.sum())\n",
    "b.plot(kind='bar')\n",
    "plt.show()"
   ]
  },
  {
   "cell_type": "code",
   "execution_count": 53,
   "metadata": {
    "collapsed": false
   },
   "outputs": [
    {
     "data": {
      "text/plain": [
       "0.42459037355771"
      ]
     },
     "execution_count": 53,
     "metadata": {},
     "output_type": "execute_result"
    }
   ],
   "source": [
    "a=2"
   ]
  }
 ],
 "metadata": {
  "anaconda-cloud": {},
  "kernelspec": {
   "display_name": "Python [default]",
   "language": "python",
   "name": "python3"
  },
  "language_info": {
   "codemirror_mode": {
    "name": "ipython",
    "version": 3
   },
   "file_extension": ".py",
   "mimetype": "text/x-python",
   "name": "python",
   "nbconvert_exporter": "python",
   "pygments_lexer": "ipython3",
   "version": "3.5.2"
  }
 },
 "nbformat": 4,
 "nbformat_minor": 1
}
